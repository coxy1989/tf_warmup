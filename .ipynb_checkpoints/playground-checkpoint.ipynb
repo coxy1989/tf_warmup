{
 "cells": [
  {
   "cell_type": "code",
   "execution_count": 1,
   "metadata": {},
   "outputs": [],
   "source": [
    "import tensorflow as tf\n",
    "import tensorflow.keras.backend as K\n",
    "import numpy as np"
   ]
  },
  {
   "cell_type": "code",
   "execution_count": 16,
   "metadata": {},
   "outputs": [],
   "source": [
    "# 1. Embed input in the graph as constant (bad)\n",
    "\n",
    "(x, y), _ = tf.keras.datasets.cifar10.load_data()\n",
    "ds = tf.data.Dataset.from_tensor_slices((x, y)).shuffle(10).repeat().batch(32)\n",
    "it = ds.make_one_shot_iterator()\n",
    "with tf.Session() as sess:\n",
    "    sess.run(it.get_next())"
   ]
  },
  {
   "cell_type": "code",
   "execution_count": 18,
   "metadata": {},
   "outputs": [],
   "source": [
    "# 2. Feed input into the graph with a placeholder (ok)\n",
    "# NB: from the docs:\n",
    "# \"While feeding data using a feed_dict offers a high level of flexibility,\n",
    "#  in general, feed_dict does not provide a scalable solution. Avoid using\n",
    "#  feed_dict for all but trivial examples.\"\n",
    "\n",
    "(x, y), _ = tf.keras.datasets.cifar10.load_data()\n",
    "xs_ph = tf.placeholder(np.float32, x.shape)\n",
    "ys_ph = tf.placeholder(np.float32, y.shape)\n",
    "ds = tf.data.Dataset.from_tensor_slices((xs_ph, ys_ph)).shuffle(10).repeat().batch(32)\n",
    "it = ds.make_initializable_iterator()\n",
    "with tf.Session() as sess:\n",
    "    sess.run(it.initializer, feed_dict={xs_ph : x, ys_ph: y})\n",
    "    sess.run(it.get_next())"
   ]
  },
  {
   "cell_type": "code",
   "execution_count": 40,
   "metadata": {
    "scrolled": false
   },
   "outputs": [],
   "source": [
    "# 3. Stream from TFRecord serialized data on disk (good)\n",
    "# https://www.tensorflow.org/guide/datasets\n",
    "# https://www.tensorflow.org/guide/performance/datasets\n",
    "\n",
    "def parse_fn(example):\n",
    "    \"Parse TFExample records and perform simple data augmentation.\"\n",
    "    example_fmt = {\n",
    "        \"image\": tf.FixedLenFeature((), tf.string, \"\"),\n",
    "        \"label\": tf.FixedLenFeature((), tf.int64, -1)\n",
    "    }\n",
    "    parsed = tf.parse_single_example(example, example_fmt)\n",
    "    image = tf.decode_raw(parsed[\"image\"], tf.uint8)\n",
    "    image.set_shape([3 * 32 * 32])\n",
    "    # Reshape from [depth * height * width] to [depth, height, width].\n",
    "    image = tf.cast(\n",
    "        tf.transpose(tf.reshape(image, [3, 32, 32]), [1, 2, 0]),\n",
    "        tf.float32)\n",
    "    label = tf.cast(parsed['label'], tf.int32)\n",
    "    return image, label\n",
    "\n",
    "filenames = [\"./data/train.tfrecords\", \"./data/test.tfrecords\"]\n",
    "ds = tf.data.TFRecordDataset(filenames).shuffle(10).repeat().map(map_func=parse_fn).batch(32)\n",
    "it = ds.make_one_shot_iterator()\n",
    "with tf.Session() as sess:\n",
    "    sess.run(it.get_next())"
   ]
  },
  {
   "cell_type": "code",
   "execution_count": 2,
   "metadata": {},
   "outputs": [],
   "source": [
    "# DATASETS\n",
    "\n",
    "# from numpy\n",
    "tf.data.Dataset.from_tensor_slices(np.random.sample([10, 2]))\n",
    "tf.data.Dataset.from_tensor_slices((np.random.sample([10,2]),\n",
    "                                    np.random.sample([10, 1])))\n",
    "\n",
    "# from tensors\n",
    "tf.data.Dataset.from_tensor_slices(tf.random_uniform([10, 2]))\n",
    "\n",
    "# from placeholder\n",
    "tf.data.Dataset.from_tensor_slices(tf.placeholder(tf.float32, shape=[None, 2]))\n",
    "\n",
    "# from generator\n",
    "seq = [[1], [[2],[3]], [[4],[5],[6]]]\n",
    "def gen():\n",
    "    for i in seq:\n",
    "        yield i\n",
    "_ = tf.data.Dataset.from_generator(gen,\n",
    "                                   output_types=tf.int64,\n",
    "                                   output_shapes=(tf.TensorShape([None, 1])))"
   ]
  },
  {
   "cell_type": "code",
   "execution_count": 3,
   "metadata": {},
   "outputs": [],
   "source": [
    "# ITERATORS\n",
    "\n",
    "\n",
    "# one shot\n",
    "ds = tf.data.Dataset.from_tensor_slices((np.random.sample([5, 2]),\n",
    "                                        np.random.sample([5, 1])))\n",
    "it = ds.make_one_shot_iterator()\n",
    "el = it.get_next()\n",
    "with tf.Session() as sess:\n",
    "    val_1 = sess.run(el)\n",
    "    #print(val_1)\n",
    "    val_2 = sess.run(el)\n",
    "    #print(val_2)\n",
    "    \n",
    "# initializable\n",
    "x = tf.placeholder(tf.float32, shape=[None, 2])\n",
    "y = tf.placeholder(tf.float32, shape=[None, 1])\n",
    "ds = tf.data.Dataset.from_tensor_slices((x, y))\n",
    "it = ds.make_initializable_iterator()\n",
    "\n",
    "train = np.random.sample([10, 2]), np.random.sample([10, 1])\n",
    "test = np.random.sample([5, 2]), np.random.sample([5, 1])\n",
    "\n",
    "xs, ys = it.get_next()\n",
    "\n",
    "with tf.Session() as sess:\n",
    "    sess.run(it.initializer, feed_dict={x : train[0], y : train[1]})\n",
    "    for _ in range(3):\n",
    "        sess.run((xs, ys))\n",
    "    sess.run(it.initializer, feed_dict={x : test[0], y:test[1]})\n",
    "    for _ in range(3):\n",
    "        sess.run((xs, ys))\n",
    "    \n",
    "# reinitializable\n",
    "train = np.random.sample([10, 2]), np.random.sample([10, 1])\n",
    "test = np.random.sample([5, 2]), np.random.sample([5, 1])\n",
    "train_ds = tf.data.Dataset.from_tensor_slices(train)\n",
    "test_ds = tf.data.Dataset.from_tensor_slices(test)\n",
    "\n",
    "it = tf.data.Iterator.from_structure(train_ds.output_types, train_ds.output_shapes)\n",
    "train_init_op = it.make_initializer(train_ds)\n",
    "test_init_op = it.make_initializer(test_ds)\n",
    "\n",
    "xs, ys = it.get_next()\n",
    "\n",
    "with tf.Session() as sess:\n",
    "    sess.run(train_init_op)\n",
    "    for _ in range(3):\n",
    "        sess.run((xs, ys))\n",
    "    sess.run(test_init_op)\n",
    "    for _ in range(3):\n",
    "        sess.run((xs, ys))\n",
    "        \n",
    "# feedable\n",
    "\n",
    "x, y = tf.placeholder(tf.float32, shape=[None, 2]), tf.placeholder(tf.float32, shape=[None, 1])\n",
    "train_ds = tf.data.Dataset.from_tensor_slices((x, y))\n",
    "test_ds = tf.data.Dataset.from_tensor_slices((x, y))\n",
    "\n",
    "train_it = train_ds.make_initializable_iterator()\n",
    "test_it = test_ds.make_initializable_iterator()\n",
    "\n",
    "handle = tf.placeholder(tf.string, shape=[])\n",
    "it = tf.data.Iterator.from_string_handle(handle, train_ds.output_types, train_ds.output_shapes)\n",
    "\n",
    "xs, ys = it.get_next()\n",
    "\n",
    "train = np.random.sample([10, 2]), np.random.sample([10, 1])\n",
    "test = np.random.sample([5, 2]), np.random.sample([5, 1])\n",
    "\n",
    "with tf.Session() as sess:\n",
    "    train_handle = sess.run(train_it.string_handle())\n",
    "    test_handle = sess.run(test_it.string_handle())\n",
    "    \n",
    "    sess.run(train_it.initializer, feed_dict={x : train[0], y : train[1]})\n",
    "    sess.run(test_it.initializer, feed_dict={x : test[0], y : test[1]})\n",
    "    \n",
    "    for _ in range(3):\n",
    "        x, y = sess.run((xs, ys), feed_dict={handle:train_handle})\n",
    "        #print(x,y)\n",
    "    \n",
    "    for _ in range(3):\n",
    "        x, y = sess.run((xs, ys), feed_dict={handle:test_handle})\n",
    "        #print(x,y)\n",
    "        "
   ]
  },
  {
   "cell_type": "code",
   "execution_count": 58,
   "metadata": {
    "scrolled": false
   },
   "outputs": [
    {
     "name": "stdout",
     "output_type": "stream",
     "text": [
      "Iter: 1  | loss: 0.17061021323165587\n",
      "Iter: 2  | loss: 0.042011099597138744\n",
      "Iter: 3  | loss: 0.018752338605061654\n",
      "Iter: 4  | loss: 0.00871591495289918\n",
      "Iter: 5  | loss: 0.004065411135313972\n",
      "Iter: 6  | loss: 0.0019269170044290444\n",
      "Iter: 7  | loss: 0.0009110278239653956\n",
      "Iter: 8  | loss: 0.00043823936345776724\n",
      "Iter: 9  | loss: 0.00020794451237663686\n",
      "Iter: 10  | loss: 9.888636169865006e-05\n"
     ]
    }
   ],
   "source": [
    "# DATASET -> ITERATOR -> TF MODEL\n",
    "# LINEAR REGRESSION\n",
    "\n",
    "x = tf.placeholder(tf.float32, shape=[None, 2])\n",
    "y = tf.placeholder(tf.float32, shape=[None, 1])\n",
    "n = 1000\n",
    "bs = 32\n",
    "ds = tf.data.Dataset.from_tensor_slices((x, y)).shuffle(100).repeat().batch(bs)\n",
    "it = ds.make_initializable_iterator()\n",
    "xs, ys = it.get_next()\n",
    "out = tf.layers.dense(xs, 1)\n",
    "loss = tf.losses.mean_squared_error(ys, out)\n",
    "train = tf.train.GradientDescentOptimizer(0.1).minimize(loss)\n",
    "\n",
    "train_x = np.random.sample([n, 2]).astype(np.float32)\n",
    "train_y = (train_x @ np.array([[1], [1]])).astype(np.float32)\n",
    "\n",
    "with tf.Session() as sess:\n",
    "    sess.run(tf.global_variables_initializer())\n",
    "    sess.run(it.initializer, feed_dict={x : train_x, y : train_y})\n",
    "    for e in range(10):\n",
    "        total_loss = 0\n",
    "        n_batches = int(n / train_bs)\n",
    "        for b in range(n_batches):\n",
    "            _, loss_val = sess.run([train, loss])\n",
    "            total_loss += loss_val\n",
    "        print(f'Iter: {e + 1}  | loss: {total_loss/n_batches}')"
   ]
  },
  {
   "cell_type": "code",
   "execution_count": 99,
   "metadata": {},
   "outputs": [
    {
     "name": "stdout",
     "output_type": "stream",
     "text": [
      "Epoch 1/10\n",
      "10/10 [==============================] - 2s 168ms/step - loss: 0.0369\n",
      "Epoch 2/10\n",
      "10/10 [==============================] - 0s 1ms/step - loss: 0.0035\n",
      "Epoch 3/10\n",
      "10/10 [==============================] - 0s 1ms/step - loss: 8.2029e-04\n",
      "Epoch 4/10\n",
      "10/10 [==============================] - 0s 1ms/step - loss: 1.7561e-04\n",
      "Epoch 5/10\n",
      "10/10 [==============================] - 0s 2ms/step - loss: 4.5304e-05\n",
      "Epoch 6/10\n",
      "10/10 [==============================] - 0s 2ms/step - loss: 1.4972e-05\n",
      "Epoch 7/10\n",
      "10/10 [==============================] - 0s 2ms/step - loss: 3.5893e-06\n",
      "Epoch 8/10\n",
      "10/10 [==============================] - 0s 1ms/step - loss: 1.4284e-06\n",
      "Epoch 9/10\n",
      "10/10 [==============================] - 0s 1ms/step - loss: 4.6142e-07\n",
      "Epoch 10/10\n",
      "10/10 [==============================] - 0s 1ms/step - loss: 1.3324e-07\n"
     ]
    },
    {
     "data": {
      "text/plain": [
       "[array([[0.99937516],\n",
       "        [0.9993751 ]], dtype=float32), array([0.00066875], dtype=float32)]"
      ]
     },
     "execution_count": 99,
     "metadata": {},
     "output_type": "execute_result"
    }
   ],
   "source": [
    "# DATASET -> KERAS\n",
    "# LINEAR REGRESSION\n",
    "\n",
    "x = np.random.sample([1000, 2]).astype(np.float32)\n",
    "y = (x @ np.array([[1], [1]])).astype(np.float32)\n",
    "ds = tf.data.Dataset.from_tensor_slices((x, y)).batch(32).repeat()\n",
    "it = ds.make_one_shot_iterator()\n",
    "xs, ys = it.get_next()\n",
    "model = tf.keras.Sequential([tf.keras.layers.InputLayer(input_shape=(2,)),\n",
    "                             tf.keras.layers.Dense(1)])\n",
    "opt = tf.keras.optimizers.SGD(lr=0.5)\n",
    "model.compile(opt,'mse')\n",
    "model.fit(xs, ys, steps_per_epoch=10, epochs=10)\n",
    "model.get_weights()"
   ]
  },
  {
   "cell_type": "code",
   "execution_count": 60,
   "metadata": {},
   "outputs": [
    {
     "name": "stdout",
     "output_type": "stream",
     "text": [
      "Epoch 1/10\n",
      "1000/1000 [==============================] - 1s 932us/step - loss: 0.0876\n",
      "Epoch 2/10\n",
      "1000/1000 [==============================] - 0s 38us/step - loss: 9.1105e-04\n",
      "Epoch 3/10\n",
      "1000/1000 [==============================] - 0s 30us/step - loss: 2.1123e-05\n",
      "Epoch 4/10\n",
      "1000/1000 [==============================] - 0s 28us/step - loss: 5.4970e-07\n",
      "Epoch 5/10\n",
      "1000/1000 [==============================] - 0s 31us/step - loss: 1.3722e-08\n",
      "Epoch 6/10\n",
      "1000/1000 [==============================] - 0s 28us/step - loss: 3.8391e-10\n",
      "Epoch 7/10\n",
      "1000/1000 [==============================] - 0s 32us/step - loss: 7.5854e-12\n",
      "Epoch 8/10\n",
      "1000/1000 [==============================] - 0s 38us/step - loss: 1.5867e-13\n",
      "Epoch 9/10\n",
      "1000/1000 [==============================] - 0s 63us/step - loss: 8.5752e-15\n",
      "Epoch 10/10\n",
      "1000/1000 [==============================] - 0s 53us/step - loss: 4.8831e-15\n"
     ]
    },
    {
     "data": {
      "text/plain": [
       "[array([[0.9999999],\n",
       "        [0.9999999]], dtype=float32), array([1.0378426e-07], dtype=float32)]"
      ]
     },
     "execution_count": 60,
     "metadata": {},
     "output_type": "execute_result"
    }
   ],
   "source": [
    "# NUMPY -> KERAS\n",
    "# LINEAR REGRESSION\n",
    "\n",
    "x = np.random.sample([1000, 2]).astype(np.float32)\n",
    "y = (x @ np.array([[1], [1]])).astype(np.float32)\n",
    "model = tf.keras.Sequential([tf.keras.layers.Dense(1)])\n",
    "opt = tf.keras.optimizers.SGD(lr=0.5)\n",
    "model.compile(opt,'mse')\n",
    "model.fit(x=x, y=y, epochs=10)\n",
    "model.get_weights()"
   ]
  },
  {
   "cell_type": "code",
   "execution_count": 101,
   "metadata": {
    "scrolled": false
   },
   "outputs": [],
   "source": [
    "# NOTE: DATASET -> KERAS MODEL usage, as specified in the docs, is broken: https://github.com/tensorflow/tensorflow/issues/22207\n",
    "\n",
    "model = tf.keras.Sequential([\n",
    "tf.keras.layers.Dense(64, activation='relu'),\n",
    "tf.keras.layers.Dense(64, activation='relu'),\n",
    "tf.keras.layers.Dense(10, activation='softmax')])\n",
    "model.compile(optimizer=tf.train.AdamOptimizer(0.001),\n",
    "              loss='categorical_crossentropy',\n",
    "              metrics=['accuracy'])\n",
    "\n",
    "data = np.random.random((1000, 32)).astype(np.float32)\n",
    "labels = np.random.random((1000, 10)).astype(np.float32)\n",
    "dataset = tf.data.Dataset.from_tensor_slices((data, labels)).batch(32).repeat()\n",
    "model.fit(dataset, steps_per_epoch=1, epochs=5, verbose=2) # crashes"
   ]
  }
 ],
 "metadata": {
  "kernelspec": {
   "display_name": "Python 3",
   "language": "python",
   "name": "python3"
  },
  "language_info": {
   "codemirror_mode": {
    "name": "ipython",
    "version": 3
   },
   "file_extension": ".py",
   "mimetype": "text/x-python",
   "name": "python",
   "nbconvert_exporter": "python",
   "pygments_lexer": "ipython3",
   "version": "3.6.7"
  }
 },
 "nbformat": 4,
 "nbformat_minor": 2
}
